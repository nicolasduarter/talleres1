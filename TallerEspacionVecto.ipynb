{
 "cells": [
  {
   "cell_type": "markdown",
   "metadata": {},
   "source": [
    "# Exercises on Complex Vector and Matrix Operations\n",
    "\n",
    "This set of exercises is designed to test your understanding of various concepts related to complex vector and matrix operations, which are foundational in quantum computing. Each exercise presents a concrete case for you to apply what you've learned about complex internal products, Hermitian matrices, Unitary matrices, and tensor products.\n",
    "\n",
    "NOTE: VERIFY YOUR COMPUTATIONS IN PAPER AND IN THE COMPUTER.\n",
    "\n",
    "## Exercise 1: Complex Internal Product for Column Vectors\n",
    "\n",
    "Given two complex column vectors:\n",
    "\n",
    "$$ \\mathbf{a} = \\begin{bmatrix} 1 + 2i \\\\ 3 - 4i \\end{bmatrix}, \\quad \\mathbf{b} = \\begin{bmatrix} 2 - i \\\\ -1 + 3i \\end{bmatrix} $$\n",
    "\n",
    "Calculate the complex internal product $ \\langle \\mathbf{a}, \\mathbf{b} \\rangle $."
   ]
  },
  {
   "cell_type": "code",
   "execution_count": 4,
   "metadata": {},
   "outputs": [
    {
     "name": "stdout",
     "output_type": "stream",
     "text": [
      "(-15+0j)\n"
     ]
    }
   ],
   "source": [
    "import numpy as np\n",
    "\n",
    "# Define two complex column vectors\n",
    "a = np.array([1+2j, 3-4j])\n",
    "b = np.array([2-1j, -1+3j])\n",
    "\n",
    "# Compute the complex internal product\n",
    "complex_internal_product_vector = np.vdot(a, b)\n",
    "\n",
    "print(complex_internal_product_vector)"
   ]
  },
  {
   "cell_type": "markdown",
   "metadata": {},
   "source": [
    "## Exercise 2: Complex Internal Product for Square Complex Matrices\n",
    "\n",
    "Given two square complex matrices:\n",
    "\n",
    "$$ A = \\begin{bmatrix} 1+i & 2-2i \\\\ 3+3i & 4-i \\end{bmatrix}, \\quad B = \\begin{bmatrix} 1-2i & 3+i \\\\ 4-4i & 2+2i \\end{bmatrix} $$\n",
    "\n",
    "Calculate the complex internal product $ \\langle A, B \\rangle $."
   ]
  },
  {
   "cell_type": "code",
   "execution_count": 6,
   "metadata": {},
   "outputs": [
    {
     "name": "stdout",
     "output_type": "stream",
     "text": [
      "el producto interno es =\n",
      "(9-9j)\n"
     ]
    }
   ],
   "source": [
    "import numpy as np\n",
    "\n",
    "# Define two square complex matrices\n",
    "a = np.array([[1+1j, 2-2j], [3+3j, 4-1j]])\n",
    "b = np.array([[1-2j, 3+1j], [4-4j, 2+2j]])\n",
    "\n",
    "# Compute the complex internal product for matrices\n",
    "print(\"el producto interno es =\")\n",
    "\n",
    "complex_internal_product_matrix = np.trace(np.dot(np.conjugate(a).T, b))\n",
    "\n",
    "print(complex_internal_product_matrix)"
   ]
  },
  {
   "cell_type": "markdown",
   "metadata": {},
   "source": [
    "# Exercises on eigenvalues and eigenvectors\n",
    "\n",
    "## Exercise 1: Compute Eigenvalues and Eigenvectors of a Real Matrix\n",
    "\n",
    "Compute the eigenvalues and eigenvectors of the following real matrix:\n",
    "\n",
    "$$\n",
    "A = \\begin{pmatrix}\n",
    "4 & 1 \\\\\n",
    "2 & 3\n",
    "\\end{pmatrix}\n",
    "$$\n",
    "\n",
    "**Hint:** Use `numpy.linalg.eig`."
   ]
  },
  {
   "cell_type": "code",
   "execution_count": 7,
   "metadata": {},
   "outputs": [
    {
     "name": "stdout",
     "output_type": "stream",
     "text": [
      "los valores propios son:\n",
      "[5. 2.]\n",
      "los vectores propios son\n",
      "[[ 0.70710678 -0.4472136 ]\n",
      " [ 0.70710678  0.89442719]]\n"
     ]
    }
   ],
   "source": [
    "a = np.array([[4,1],[2,3]])\n",
    "print(\"los valores propios son=\")\n",
    "print(np.linalg.eig(a)[0])\n",
    "print(\"los vectores propios son=\")\n",
    "print(np.linalg.eig(a)[1])"
   ]
  },
  {
   "cell_type": "markdown",
   "metadata": {},
   "source": [
    "## Exercise 2: Eigenvalues and Eigenvectors of a Complex Matrix\n",
    "\n",
    "Compute the eigenvalues and eigenvectors of the following complex matrix:\n",
    "\n",
    "$$\n",
    "B = \\begin{pmatrix}\n",
    "1 + 2i & 2 + 3i \\\\\n",
    "4 + 5i & 6 + 7i\n",
    "\\end{pmatrix}\n",
    "$$\n",
    "\n",
    "where \\(i\\) is the imaginary unit.\n",
    "\n",
    "**Hint:** Ensure your matrix is defined with complex numbers in Python using `dtype=complex`."
   ]
  },
  {
   "cell_type": "code",
   "execution_count": 9,
   "metadata": {},
   "outputs": [
    {
     "name": "stdout",
     "output_type": "stream",
     "text": [
      "los valores propios son=\n",
      "[-0.25519526-0.09363597j  7.25519526+9.09363597j]\n",
      "los vectores propios son=\n",
      "[[ 0.8280679 +0.j          0.35299759+0.04782692j]\n",
      " [-0.559984  -0.02686037j  0.93440103+0.j        ]]\n"
     ]
    }
   ],
   "source": [
    "b = np.array([[1+2j,2+3j],[4+5j,6+7j]], dtype = complex)\n",
    "print(\"los valores propios son=\")\n",
    "print(np.linalg.eig(b)[0])\n",
    "print(\"los vectores propios son=\")\n",
    "print(np.linalg.eig(b)[1])"
   ]
  },
  {
   "cell_type": "markdown",
   "metadata": {},
   "source": [
    "## Exercise 3: Symmetric Matrix Eigendecomposition\n",
    "\n",
    "Compute the eigenvalues and eigenvectors of the following symmetric matrix:\n",
    "\n",
    "$$\n",
    "C = \\begin{pmatrix}\n",
    "5 & 4 \\\\\n",
    "4 & 5\n",
    "\\end{pmatrix}\n",
    "$$\n",
    "\n",
    "Discuss the properties of the eigenvectors and eigenvalues for symmetric matrices based on your results."
   ]
  },
  {
   "cell_type": "code",
   "execution_count": 11,
   "metadata": {},
   "outputs": [
    {
     "name": "stdout",
     "output_type": "stream",
     "text": [
      "los valores propios son=\n",
      "[9. 1.]\n",
      "los vectores propios son=\n",
      "[[ 0.70710678 -0.70710678]\n",
      " [ 0.70710678  0.70710678]]\n",
      "el determinante de una matriz simetrica es igual al producto de los valores propios\n",
      "el determinante de c es=  8.999999999999998\n",
      "el producto de los valores propios es=  9.0\n",
      "sus vectores propios son ortogonales v1 T*v2 = 0\n",
      "0.0\n",
      "la suma de los valores propios es igual a la traza de la matriz\n",
      "la suma de los valores propios es= 10.0\n",
      "la suma de la traza es igual a= 10\n"
     ]
    }
   ],
   "source": [
    "c = np.array([[5,4],[4,5]])\n",
    "print(\"los valores propios son=\")\n",
    "print(np.linalg.eig(c)[0])\n",
    "print(\"los vectores propios son=\")\n",
    "print(np.linalg.eig(c)[1])\n",
    "\n",
    "print(\"el determinante de una matriz simetrica es igual al producto de los valores propios\")\n",
    "print(\"el determinante de c es= \" ,np.linalg.det(c))\n",
    "print(\"el producto de los valores propios es= \",np.linalg.eig(c)[0][0]*np.linalg.eig(c)[0][1])\n",
    "print(\"sus vectores propios son ortogonales v1 T*v2 = 0\")\n",
    "print(np.dot(np.linalg.eig(c)[1][0],np.linalg.eig(c)[1][1]))\n",
    "print(\"la suma de los valores propios es igual a la traza de la matriz\")\n",
    "print(\"la suma de los valores propios es=\", np.linalg.eig(c)[0][0]+np.linalg.eig(c)[0][1])\n",
    "print(\"la suma de la traza es igual a=\", np.trace(c))"
   ]
  },
  {
   "cell_type": "markdown",
   "metadata": {},
   "source": [
    "## Exercise 4: Plotting Matrix Transformations\n",
    "\n",
    "Consider the matrix:\n",
    "\n",
    "$$\n",
    "T = \\begin{pmatrix}\n",
    "2 & 1 \\\\\n",
    "1 & 3\n",
    "\\end{pmatrix}\n",
    "$$\n",
    "\n",
    "1. Plot the unit circle.\n",
    "2. Apply the matrix \\(T\\) to transform the unit circle.\n",
    "3. Plot the transformed figure.\n",
    "4. Show graphically that the eigenvectors are only multiplied by an escalar when transformed. (Plot the eigen vectors and the transformed ones) \n",
    "\n",
    "Explain how the matrix \\(T\\) transforms the unit circle based on the resulting plot.\n",
    "\n",
    "**Hint:** Use `numpy` for matrix operations and `matplotlib` for plotting."
   ]
  },
  {
   "cell_type": "code",
   "execution_count": 12,
   "metadata": {},
   "outputs": [
    {
     "data": {
      "image/png": "[encoded data removed]",
      "text/plain": [
       "<Figure size 600x600 with 1 Axes>"
      ]
     },
     "metadata": {},
     "output_type": "display_data"
    }
   ],
   "source": [
    "import numpy as np\n",
    "import matplotlib.pyplot as plt\n",
    "\n",
    "T = np.array([[2 , 1],[1 , 3]])\n",
    "theta = np.linspace(0, 2 * np.pi, 50)  \n",
    "x = np.cos(theta)  \n",
    "y = np.sin(theta)  \n",
    "\n",
    "circle_points = np.vstack([x, y])\n",
    "\n",
    "# Primer \n",
    "plt.figure(figsize=(6,6))\n",
    "plt.plot(x, y, label='Círculo unitario')\n",
    "\n",
    "# Segundo \n",
    "transformed_circle = T @ circle_points\n",
    "\n",
    "# Tercer\n",
    "plt.plot(transformed_circle[0, :], transformed_circle[1, :], label='Círculo transformado')\n",
    "plt.xlim([-10, 10])\n",
    "plt.ylim([-10, 10])\n",
    "plt.gca().set_aspect('equal', adjustable='box')\n",
    "plt.axhline(0, color='black',linewidth=1) \n",
    "plt.axvline(0, color='black',linewidth=1)  \n",
    "plt.title('Gráfico de un Círculo Unitario')\n",
    "plt.xlabel('X')\n",
    "plt.ylabel('Y')\n",
    "plt.grid(True)\n",
    "plt.legend()\n",
    "\n",
    "#Cuarto\n",
    "plt.show()"
   ]
  },
  {
   "cell_type": "markdown",
   "metadata": {},
   "source": [
    "## Exercise 5: Diagonal Matrix Eigendecomposition\n",
    "\n",
    "Compute the eigenvalues and eigenvectors of the following diagonal matrix:\n",
    "\n",
    "$$\n",
    "D = \\begin{pmatrix}\n",
    "7 & 0 \\\\\n",
    "0 & -3\n",
    "\\end{pmatrix}\n",
    "$$\n",
    "\n",
    "Discuss the significance of the eigenvalues and eigenvectors for diagonal matrices."
   ]
  },
  {
   "cell_type": "code",
   "execution_count": 13,
   "metadata": {},
   "outputs": [
    {
     "name": "stdout",
     "output_type": "stream",
     "text": [
      "los valores propios son=\n",
      "[ 7. -3.]\n",
      "los vectores propios son=\n",
      "[[1. 0.]\n",
      " [0. 1.]]\n",
      "los valores propios son los valores de la diagonal\n",
      "los vectores propios son los vectores canonicos\n"
     ]
    }
   ],
   "source": [
    "d = np.array([[7,0],[0,-3]])\n",
    "print(\"los valores propios son=\")\n",
    "print(np.linalg.eig(d)[0])\n",
    "print(\"los vectores propios son=\")\n",
    "print(np.linalg.eig(d)[1])\n",
    "print(\"los valores propios son los valores de la diagonal\")\n",
    "print(\"los vectores propios son los vectores canonicos\")"
   ]
  }
 ],
 "metadata": {
  "kernelspec": {
   "display_name": ".venv",
   "language": "python",
   "name": "python3"
  },
  "language_info": {
   "codemirror_mode": {
    "name": "ipython",
    "version": 3
   },
   "file_extension": ".py",
   "mimetype": "text/x-python",
   "name": "python",
   "nbconvert_exporter": "python",
   "pygments_lexer": "ipython3",
   "version": "3.11.9"
  }
 },
 "nbformat": 4,
 "nbformat_minor": 2
}

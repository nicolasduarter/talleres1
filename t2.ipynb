{
 "cells": [
  {
   "cell_type": "markdown",
   "metadata": {},
   "source": [
    "# Exercises on Complex Vectors and Matrices with Concrete Cases\n",
    "\n",
    "This set of exercises focuses on operations with complex column vectors and complex square matrices, including concrete cases with vectors and matrices written in LaTeX format.\n",
    "\n",
    "## Complex Column Vector Operations\n",
    "\n",
    "### Exercise 1: Sum of Two Complex Vectors\n",
    "Given two complex vectors \n",
    "$ v1 = \\begin{bmatrix} 1 + 2i \\\\ 3 - i \\end{bmatrix} $ \n",
    "and \n",
    "$ v2 = \\begin{bmatrix} 2 - i \\\\ 4 + 2i \\end{bmatrix} $, \n",
    "find their sum."
   ]
  },
  {
   "cell_type": "code",
   "execution_count": 36,
   "metadata": {},
   "outputs": [
    {
     "name": "stdout",
     "output_type": "stream",
     "text": [
      "\n",
      "La suma de  [[1.+2.j]\n",
      " [3.-1.j]]  +  [[2.-1.j]\n",
      " [4.+2.j]]  es= [[3.+1.j]\n",
      " [7.+1.j]]\n"
     ]
    }
   ],
   "source": [
    "import numpy as np\n",
    "\n",
    "a = np.array([[1+2j], [3-1j]])\n",
    "b = np.array([[2-1j], [4+2j]])\n",
    "\n",
    "sum_vec = a + b\n",
    "print(\"\")\n",
    "print(\"La suma de \", a, \" + \",b, \" es=\",sum_vec)"
   ]
  },
  {
   "cell_type": "markdown",
   "metadata": {},
   "source": [
    "### Exercise 2: Negation of a Complex Vector\n",
    "Given a complex vector \n",
    "$ v = \\begin{bmatrix} 2 + 3i \\\\ 1 - 2i \\end{bmatrix} $, \n",
    "find its negation."
   ]
  },
  {
   "cell_type": "code",
   "execution_count": 25,
   "metadata": {},
   "outputs": [
    {
     "name": "stdout",
     "output_type": "stream",
     "text": [
      "La negacion del complejo  [2.+3.j 1.-2.j]  es=\n",
      "[-2.-3.j -1.+2.j]\n"
     ]
    }
   ],
   "source": [
    "a = np.array([2+3j , 1-2j])\n",
    "print(\"La negacion del complejo \",a, \" es=\")\n",
    "print(-a)\n"
   ]
  },
  {
   "cell_type": "markdown",
   "metadata": {},
   "source": [
    "### Exercise 3: Multiplication of a Complex Vector by a Scalar\n",
    "Multiply the complex vector \n",
    "$ v = \\begin{bmatrix} 1 - i \\\\ 2 + 2i \\end{bmatrix} $ \n",
    "by the complex scalar $$ 3 + i $$."
   ]
  },
  {
   "cell_type": "code",
   "execution_count": 26,
   "metadata": {},
   "outputs": [
    {
     "name": "stdout",
     "output_type": "stream",
     "text": [
      "La multiplicacion escalar de la matriz  [1.-1.j 2.+2.j]  * el escalar  (3+1j)  es=\n",
      "[4.-2.j 4.+8.j]\n"
     ]
    }
   ],
   "source": [
    "a = np.array([1-1j , 2+2j])\n",
    "e = 3+1j\n",
    "print(\"La multiplicacion escalar de la matriz \", a, \" * el escalar \",e, \" es=\")\n",
    "print(a*e)"
   ]
  },
  {
   "cell_type": "markdown",
   "metadata": {},
   "source": [
    "### Exercise 4: Transpose of a Complex Vector\n",
    "Find the transpose of the complex vector \n",
    "$ v = \\begin{bmatrix} 2 - i \\\\ 3 + 4i \\end{bmatrix} $."
   ]
  },
  {
   "cell_type": "code",
   "execution_count": 27,
   "metadata": {},
   "outputs": [
    {
     "name": "stdout",
     "output_type": "stream",
     "text": [
      "La transpuesta de  [2.-1.j 3.+4.j]  es=\n",
      "[2.-1.j 3.+4.j]\n"
     ]
    }
   ],
   "source": [
    "a = np.array([2-1j,3+4j])\n",
    "print(\"La transpuesta de \",a, \" es=\")\n",
    "print(a.T) "
   ]
  },
  {
   "cell_type": "markdown",
   "metadata": {},
   "source": [
    "### Exercise 5: Conjugate of a Complex Vector\n",
    "Compute the conjugate of the complex vector \n",
    "$ v = \\begin{bmatrix} 1 + i \\\\ 2 - 3i \\end{bmatrix} $."
   ]
  },
  {
   "cell_type": "code",
   "execution_count": 23,
   "metadata": {},
   "outputs": [
    {
     "name": "stdout",
     "output_type": "stream",
     "text": [
      "El conjugado de  [1.+1.j 2.-3.j] es=\n",
      "[1.-1.j 2.+3.j]\n"
     ]
    }
   ],
   "source": [
    "a = np.array([1+1j,2-3j])\n",
    "print(\"El conjugado de \",a,\"es=\")\n",
    "print(np.conjugate(a))"
   ]
  },
  {
   "cell_type": "markdown",
   "metadata": {},
   "source": [
    "### Exercise 6: Adjunct (Conjugate Transpose) of a Complex Vector\n",
    "Find the adjunct (or conjugate transpose) of the complex vector \n",
    "$ v = \\begin{bmatrix} 1 - 2i \\\\ 3 + i \\end{bmatrix} $."
   ]
  },
  {
   "cell_type": "code",
   "execution_count": 29,
   "metadata": {},
   "outputs": [
    {
     "name": "stdout",
     "output_type": "stream",
     "text": [
      "la adjunta de  [1.-2.j 3.+1.j]  es=\n",
      "[1.+2.j 3.-1.j]\n"
     ]
    }
   ],
   "source": [
    "a = np.array([1 - 2j , 3 + 1j ])\n",
    "print(\"la adjunta de \",a, \" es=\")\n",
    "print(np.conjugate(a.T))"
   ]
  },
  {
   "cell_type": "markdown",
   "metadata": {},
   "source": [
    "## Complex Square Matrix Operations\n",
    "\n",
    "### Exercise 7: Sum of Two Complex Matrices\n",
    "Given two complex matrices \n",
    "$ m1 = \\begin{bmatrix} 1 + i & 2 - i \\\\ 3 + 2i & 4 \\end{bmatrix} $\n",
    "and \n",
    "$ m2 = \\begin{bmatrix} 2 - 3i & 1 \\\\ i & 2 + 2i \\end{bmatrix} $, \n",
    "calculate their sum."
   ]
  },
  {
   "cell_type": "code",
   "execution_count": 31,
   "metadata": {},
   "outputs": [
    {
     "name": "stdout",
     "output_type": "stream",
     "text": [
      "La suma de  [[1.+1.j 2.-1.j]\n",
      " [3.+2.j 4.+0.j]]  +  [[2.-3.j 1.+0.j]\n",
      " [0.+1.j 2.+2.j]]  es=\n",
      "\n",
      "[[3.-2.j 3.-1.j]\n",
      " [3.+3.j 6.+2.j]]\n"
     ]
    }
   ],
   "source": [
    "a = np.array([[1 + 1j, 2 - 1j],[3 + 2j, 4]])\n",
    "b = np.array([[2 - 3j, 1],[1j, 2 + 2j]])\n",
    "print(\"La suma de \", a, \" + \",b, \" es=\")\n",
    "print(\"\")\n",
    "print(a+b)"
   ]
  },
  {
   "cell_type": "markdown",
   "metadata": {},
   "source": [
    "### Exercise 8: Negation of a Complex Matrix\n",
    "Find the negation of the complex matrix \n",
    "$ m = \\begin{bmatrix} 2 + i & 3 \\\\ 1 - i & 2 + 2i \\end{bmatrix} $."
   ]
  },
  {
   "cell_type": "code",
   "execution_count": 35,
   "metadata": {},
   "outputs": [
    {
     "name": "stdout",
     "output_type": "stream",
     "text": [
      "La negacion de  [[2.+1.j 3.+0.j]\n",
      " [1.-1.j 2.+2.j]]  es=\n",
      "\n",
      "[[-2.-1.j -3.-0.j]\n",
      " [-1.+1.j -2.-2.j]]\n"
     ]
    }
   ],
   "source": [
    "a = np.array([[2+1j , 3],[1-1j,2+2j]])\n",
    "print(\"La negacion de \",a, \" es=\")\n",
    "print(\"\")\n",
    "print(-a)"
   ]
  },
  {
   "cell_type": "markdown",
   "metadata": {},
   "source": [
    "### Exercise 9: Multiplication of a Complex Matrix by a Scalar\n",
    "Multiply the complex matrix \n",
    "$ m = \\begin{bmatrix} 1 - i & 2 \\\\ 3 + i & 4 - 2i \\end{bmatrix} $ \n",
    "by the complex scalar $$ 2 + 3i $$."
   ]
  },
  {
   "cell_type": "code",
   "execution_count": 34,
   "metadata": {},
   "outputs": [
    {
     "name": "stdout",
     "output_type": "stream",
     "text": [
      "La multiplicacion escalar de la matriz compleja [[1.-1.j 2.+0.j]\n",
      " [3.+1.j 4.-2.j]]  * el esclar (3+1j)  es=\n",
      "\n",
      "[[ 4.-2.j  6.+2.j]\n",
      " [ 8.+6.j 14.-2.j]]\n"
     ]
    }
   ],
   "source": [
    "a = np.array([[1-1j , 2],[3+1j , 4-2j]])\n",
    "e = 3+1j\n",
    "print(\"La multiplicacion escalar de la matriz compleja\", a, \" * el esclar\",e, \" es=\")\n",
    "print(\"\")\n",
    "print(a*e)"
   ]
  },
  {
   "cell_type": "markdown",
   "metadata": {},
   "source": [
    "### Exercise 10: Conjugate of a Complex Matrix\n",
    "Compute the conjugate of the complex matrix \n",
    "$ m = \\begin{bmatrix} 1 + i & 2 \\\\ 3 - i & 4 + 2i \\end{bmatrix} $."
   ]
  },
  {
   "cell_type": "code",
   "execution_count": 38,
   "metadata": {},
   "outputs": [
    {
     "name": "stdout",
     "output_type": "stream",
     "text": [
      "El conjugado de  [[1.+1.j 2.+0.j]\n",
      " [3.-1.j 4.+2.j]] es=\n",
      "\n",
      "[[1.-1.j 2.-0.j]\n",
      " [3.+1.j 4.-2.j]]\n"
     ]
    }
   ],
   "source": [
    "a = np.array([[1+1j,2],[3-1j,4+2j]])\n",
    "print(\"El conjugado de \",a,\"es=\")\n",
    "print(\"\")\n",
    "print(np.conjugate(a))"
   ]
  },
  {
   "cell_type": "markdown",
   "metadata": {},
   "source": [
    "### Exercise 11: Transpose of a Complex Matrix\n",
    "Find the transpose of the complex matrix \n",
    "$ m = \\begin{bmatrix} 1 - i & 2 + 2i \\\\ 3 & 4 - i \\end{bmatrix} $."
   ]
  },
  {
   "cell_type": "code",
   "execution_count": 40,
   "metadata": {},
   "outputs": [
    {
     "name": "stdout",
     "output_type": "stream",
     "text": [
      "La Transpuesta de  [[1.-1.j 2.+2.j]\n",
      " [3.+0.j 4.-1.j]]  es=\n",
      "\n",
      "[[1.-1.j 3.+0.j]\n",
      " [2.+2.j 4.-1.j]]\n"
     ]
    }
   ],
   "source": [
    "a = np.array([[1 - 1j, 2 + 2j] , [3, 4 - 1j] ])\n",
    "print(\"La Transpuesta de \",a, \" es=\")\n",
    "print(\"\")\n",
    "print(a.T)"
   ]
  },
  {
   "cell_type": "markdown",
   "metadata": {},
   "source": [
    "### Exercise 12: Adjunct (Conjugate Transpose) of a Complex Matrix\n",
    "Calculate the adjunct (or conjugate transpose) of the complex matrix \n",
    "$ m = \\begin{bmatrix} 1 + 2i & 3 - i \\\\ 4 & 5 + i \\end{bmatrix} $."
   ]
  },
  {
   "cell_type": "code",
   "execution_count": 41,
   "metadata": {},
   "outputs": [
    {
     "name": "stdout",
     "output_type": "stream",
     "text": [
      "La adjunta de  [[1.+2.j 3.-1.j]\n",
      " [4.+0.j 5.+1.j]]  es=\n",
      "\n",
      "[[1.-2.j 4.-0.j]\n",
      " [3.+1.j 5.-1.j]]\n"
     ]
    }
   ],
   "source": [
    "a = np.array([[1 + 2j, 3-1j] , [4, 5 + 1j] ])\n",
    "print(\"La adjunta de \",a, \" es=\")\n",
    "print(\"\")\n",
    "print(np.conjugate(a.T))"
   ]
  },
  {
   "cell_type": "markdown",
   "metadata": {},
   "source": [
    "### Exercise 13: Checking the Dimensions of a Matrix\n",
    "Determine the dimensions of the complex matrix \n",
    "$ m = \\begin{bmatrix} 1 - i & 2 \\\\ 3 + 2i & 4 - i \\end{bmatrix} $."
   ]
  },
  {
   "cell_type": "code",
   "execution_count": 42,
   "metadata": {},
   "outputs": [
    {
     "name": "stdout",
     "output_type": "stream",
     "text": [
      "la dimension de la matriz  [[1.-1.j 2.+0.j]\n",
      " [3.+2.j 4.-1.j]]  es=\n",
      "(2, 2)\n"
     ]
    }
   ],
   "source": [
    "a = np.array([[1-1j,2],[3+2j,4-1j]])\n",
    "print(\"la dimension de la matriz \", a, \" es=\")\n",
    "print(a.shape)"
   ]
  },
  {
   "cell_type": "markdown",
   "metadata": {},
   "source": [
    "## Multiplication of Matrices and Vectors\n",
    "\n",
    "### Exercise 14: Multiplying a Complex Square Matrix by a Complex Column Vector\n",
    "Multiply the complex square matrix \n",
    "$ m = \\begin{bmatrix} 1 + i & 2 - i \\\\ 3 & 4 + i \\end{bmatrix} $ \n",
    "by the complex column vector \n",
    "$ v = \\begin{bmatrix} 2 - i \\\\ 1 + 3i \\end{bmatrix} $.\n"
   ]
  },
  {
   "cell_type": "code",
   "execution_count": 44,
   "metadata": {},
   "outputs": [
    {
     "name": "stdout",
     "output_type": "stream",
     "text": [
      "La multiplicacion entre la matriz  [[1.+1.j 2.-1.j]\n",
      " [3.+0.j 4.+1.j]]  y el vector  [2.-1.j 1.+3.j]  es=\n",
      "[8. +6.j 7.+10.j]\n"
     ]
    }
   ],
   "source": [
    "a = np.array([[1+1j,2-1j],[3,4+1j]])\n",
    "v = np.array([2-1j,1+3j])\n",
    "print(\"La multiplicacion entre la matriz \",a,\" y el vector \",v,\" es=\")\n",
    "print(np.dot(a,v))"
   ]
  }
 ],
 "metadata": {
  "kernelspec": {
   "display_name": ".venv",
   "language": "python",
   "name": "python3"
  },
  "language_info": {
   "codemirror_mode": {
    "name": "ipython",
    "version": 3
   },
   "file_extension": ".py",
   "mimetype": "text/x-python",
   "name": "python",
   "nbconvert_exporter": "python",
   "pygments_lexer": "ipython3",
   "version": "3.11.9"
  }
 },
 "nbformat": 4,
 "nbformat_minor": 2
}
